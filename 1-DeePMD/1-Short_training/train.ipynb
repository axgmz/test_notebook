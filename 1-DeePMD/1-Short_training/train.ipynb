{
 "cells": [
  {
   "cell_type": "markdown",
   "id": "53c6dd26-3d0d-47c9-b7dc-23ab6199da75",
   "metadata": {},
   "source": [
    "# DeePMD training"
   ]
  },
  {
   "cell_type": "markdown",
   "id": "0e67045b-f7fe-49de-8d2c-de3666621d9a",
   "metadata": {},
   "source": [
    "Data from [DP Library](https://dplibrary.deepmd.net/#/project_details?project_id=202206.001).\n",
    "\n",
    "PES of water with the SCAN DFT exchange and correlation functional in a broad range of temperatures and pressures conditions.\n",
    "\n",
    "More about it in [this paper](https://journals.aps.org/prl/abstract/10.1103/PhysRevLett.126.236001)."
   ]
  },
  {
   "cell_type": "markdown",
   "id": "5b498eba-1e2c-41e4-87c2-f47e028a599b",
   "metadata": {},
   "source": [
    "## Training"
   ]
  },
  {
   "cell_type": "markdown",
   "id": "031622cd-8968-451b-8d24-b4dbab99523f",
   "metadata": {},
   "source": [
    "Short unrealistic training.\n",
    "\n",
    "Data in TrainingData/\n",
    "\n",
    "DeePMD-kit parameters in input.json\n",
    "\n",
    "To train:"
   ]
  },
  {
   "cell_type": "code",
   "execution_count": null,
   "id": "494ef865-a74b-4144-872a-0eae7f966db4",
   "metadata": {},
   "outputs": [],
   "source": [
    "%%bash\n",
    "dp train input.json 1> train.log 2> train.err"
   ]
  },
  {
   "cell_type": "markdown",
   "id": "bf24170c-f548-4950-ba2f-7930c383cd5c",
   "metadata": {},
   "source": [
    "## Freezing the NNP model"
   ]
  },
  {
   "cell_type": "code",
   "execution_count": null,
   "id": "215d4dde-933a-4845-9c29-64e88fc4a620",
   "metadata": {},
   "outputs": [],
   "source": [
    "%%bash\n",
    "dp freeze"
   ]
  },
  {
   "cell_type": "markdown",
   "id": "6d8b0c46-b02f-4ebe-acef-cb7d760724f9",
   "metadata": {},
   "source": [
    "## Compress"
   ]
  },
  {
   "cell_type": "markdown",
   "id": "2ed04134-7f0f-486f-a14b-bd27600b300c",
   "metadata": {},
   "source": [
    "Little loss of accuracy, significantly larger frozen model file BUT much faster model inference"
   ]
  },
  {
   "cell_type": "code",
   "execution_count": null,
   "id": "94166b1e-379e-42c1-8874-b0f95b5bf441",
   "metadata": {},
   "outputs": [],
   "source": [
    "%%bash\n",
    "dp compress"
   ]
  }
 ],
 "metadata": {
  "kernelspec": {
   "display_name": "Python 3 (ipykernel)",
   "language": "python",
   "name": "python3"
  },
  "language_info": {
   "codemirror_mode": {
    "name": "ipython",
    "version": 3
   },
   "file_extension": ".py",
   "mimetype": "text/x-python",
   "name": "python",
   "nbconvert_exporter": "python",
   "pygments_lexer": "ipython3",
   "version": "3.8.12"
  }
 },
 "nbformat": 4,
 "nbformat_minor": 5
}
