{
 "cells": [
  {
   "cell_type": "code",
   "execution_count": null,
   "id": "8fa51a2d",
   "metadata": {},
   "outputs": [],
   "source": [
    "import dpdata\n",
    "import numpy as np\n",
    "from deepmd.infer import DeepPot\n",
    "import matplotlib.pyplot as plt "
   ]
  },
  {
   "cell_type": "code",
   "execution_count": null,
   "id": "54bf4427",
   "metadata": {},
   "outputs": [],
   "source": [
    "dp = DeepPot('../../frozen_model_compressed.pb')"
   ]
  },
  {
   "cell_type": "markdown",
   "id": "b55148a8-6401-4622-8037-9e6c9791d27a",
   "metadata": {},
   "source": [
    "Error histogram"
   ]
  },
  {
   "cell_type": "code",
   "execution_count": null,
   "id": "f9574d1f",
   "metadata": {},
   "outputs": [],
   "source": [
    "system = dpdata.LabeledSystem('../1-Short_training/TrainingData/ice-and-liquid', fmt = 'deepmd/raw')\n",
    "e, f, v = dp.eval(system['coords'], system['cells'], system['atom_types'])\n",
    "energy_model = e.reshape([-1]) \n",
    "energy_dft=np.genfromtxt(\"../1-Short_training/TrainingData/ice-and-liquid/energy.raw\")\n",
    "number_of_molecules=96\n",
    "plt.hist((energy_model-energy_dft)/number_of_molecules)\n",
    "\n",
    "plt.show()"
   ]
  }
 ],
 "metadata": {
  "kernelspec": {
   "display_name": "Python 3 (ipykernel)",
   "language": "python",
   "name": "python3"
  },
  "language_info": {
   "codemirror_mode": {
    "name": "ipython",
    "version": 3
   },
   "file_extension": ".py",
   "mimetype": "text/x-python",
   "name": "python",
   "nbconvert_exporter": "python",
   "pygments_lexer": "ipython3",
   "version": "3.8.12"
  }
 },
 "nbformat": 4,
 "nbformat_minor": 5
}
