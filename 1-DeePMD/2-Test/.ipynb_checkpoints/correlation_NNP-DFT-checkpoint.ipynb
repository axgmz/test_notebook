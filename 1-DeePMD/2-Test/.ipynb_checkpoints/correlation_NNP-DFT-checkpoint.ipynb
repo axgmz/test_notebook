{
 "cells": [
  {
   "cell_type": "code",
   "execution_count": null,
   "id": "e96f5448",
   "metadata": {},
   "outputs": [],
   "source": [
    "import dpdata\n",
    "import numpy as np\n",
    "from deepmd.infer import DeepPot\n",
    "import matplotlib.pyplot as plt "
   ]
  },
  {
   "cell_type": "code",
   "execution_count": null,
   "id": "835465f5",
   "metadata": {},
   "outputs": [],
   "source": [
    "dp_short = DeepPot('../1-Short_training/frozen_model_compressed.pb')\n",
    "\n",
    "dp_good = DeepPot('../../frozen_model_compressed.pb')"
   ]
  },
  {
   "cell_type": "markdown",
   "id": "54eb9421-f478-4386-a28f-e7275d22e0b1",
   "metadata": {},
   "source": [
    "With quick model trained by the user"
   ]
  },
  {
   "cell_type": "code",
   "execution_count": null,
   "id": "f2bfcb35",
   "metadata": {},
   "outputs": [],
   "source": [
    "system = dpdata.LabeledSystem('../1-Short_training/TrainingData/ice-and-liquid', fmt = 'deepmd/raw')\n",
    "e, f, v = dp_short.eval(system['coords'], system['cells'], system['atom_types'])\n",
    "energy_model = e.reshape([-1]) \n",
    "energy_dft=np.genfromtxt(\"../1-Short_training/TrainingData/ice-and-liquid/energy.raw\")\n",
    "number_of_molecules=96\n",
    "plt.scatter(energy_model/number_of_molecules,energy_dft/number_of_molecules)\n",
    "\n",
    "system = dpdata.LabeledSystem('../1-Short_training/TrainingData/liquid-water-1', fmt = 'deepmd/raw')\n",
    "e, f, v = dp_short.eval(system['coords'], system['cells'], system['atom_types'])\n",
    "energy_model = e.reshape([-1]) \n",
    "energy_dft=np.genfromtxt(\"../1-Short_training/TrainingData/liquid-water-1/energy.raw\")\n",
    "number_of_molecules=64\n",
    "plt.scatter(energy_model/number_of_molecules,energy_dft/number_of_molecules)\n",
    "\n",
    "system = dpdata.LabeledSystem('../1-Short_training/TrainingData/liquid-water-2', fmt = 'deepmd/raw')\n",
    "e, f, v = dp_short.eval(system['coords'], system['cells'], system['atom_types'])\n",
    "energy_model = e.reshape([-1]) \n",
    "energy_dft=np.genfromtxt(\"../1-Short_training/TrainingData/liquid-water-2/energy.raw\")\n",
    "number_of_molecules=288\n",
    "plt.scatter(energy_model/number_of_molecules,energy_dft/number_of_molecules)\n",
    "\n",
    "plt.xlabel(\"E NNP / molecule [eV]\")\n",
    "plt.yabel(\"E DFT / molecule [eV]\n",
    "\n",
    "plt.show()"
   ]
  },
  {
   "cell_type": "markdown",
   "id": "2e05d454-0ff4-44e9-b1cd-c1b34df81cd1",
   "metadata": {},
   "source": [
    "With good model pre-trained"
   ]
  },
  {
   "cell_type": "code",
   "execution_count": null,
   "id": "62804a07-eb9c-48d6-842a-b4b68b6496a4",
   "metadata": {},
   "outputs": [],
   "source": [
    "system = dpdata.LabeledSystem('../1-Short_training/TrainingData/ice-and-liquid', fmt = 'deepmd/raw')\n",
    "e, f, v = dp_good.eval(system['coords'], system['cells'], system['atom_types'])\n",
    "energy_model = e.reshape([-1]) \n",
    "energy_dft=np.genfromtxt(\"../1-Short_training/TrainingData/ice-and-liquid/energy.raw\")\n",
    "number_of_molecules=96\n",
    "plt.scatter(energy_model/number_of_molecules,energy_dft/number_of_molecules)\n",
    "\n",
    "system = dpdata.LabeledSystem('../1-Short_training/TrainingData/liquid-water-1', fmt = 'deepmd/raw')\n",
    "e, f, v = dp_good.eval(system['coords'], system['cells'], system['atom_types'])\n",
    "energy_model = e.reshape([-1]) \n",
    "energy_dft=np.genfromtxt(\"../1-Short_training/TrainingData/liquid-water-1/energy.raw\")\n",
    "number_of_molecules=64\n",
    "plt.scatter(energy_model/number_of_molecules,energy_dft/number_of_molecules)\n",
    "\n",
    "system = dpdata.LabeledSystem('../1-Short_training/TrainingData/liquid-water-2', fmt = 'deepmd/raw')\n",
    "e, f, v = dp_good.eval(system['coords'], system['cells'], system['atom_types'])\n",
    "energy_model = e.reshape([-1]) \n",
    "energy_dft=np.genfromtxt(\"../1-Short_training/TrainingData/liquid-water-2/energy.raw\")\n",
    "number_of_molecules=288\n",
    "plt.scatter(energy_model/number_of_molecules,energy_dft/number_of_molecules)\n",
    "\n",
    "plt.xlabel(\"E NNP / molecule [eV]\")\n",
    "plt.yabel(\"E DFT / molecule [eV]\n",
    "\n",
    "plt.show()"
   ]
  }
 ],
 "metadata": {
  "kernelspec": {
   "display_name": "Python 3 (ipykernel)",
   "language": "python",
   "name": "python3"
  },
  "language_info": {
   "codemirror_mode": {
    "name": "ipython",
    "version": 3
   },
   "file_extension": ".py",
   "mimetype": "text/x-python",
   "name": "python",
   "nbconvert_exporter": "python",
   "pygments_lexer": "ipython3",
   "version": "3.8.12"
  }
 },
 "nbformat": 4,
 "nbformat_minor": 5
}
